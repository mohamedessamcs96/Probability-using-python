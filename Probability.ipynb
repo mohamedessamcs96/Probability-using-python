{
  "nbformat": 4,
  "nbformat_minor": 0,
  "metadata": {
    "colab": {
      "provenance": []
    },
    "kernelspec": {
      "name": "python3",
      "display_name": "Python 3"
    },
    "language_info": {
      "name": "python"
    }
  },
  "cells": [
    {
      "cell_type": "code",
      "source": [
        "#select vowel from alphapet\n",
        "\n",
        "alphapet=26\n",
        "\n",
        "vowel=5\n",
        "\n",
        "pickvowel=vowel/alphapet\n",
        "\n",
        "\n",
        "print(\"Probability of picking a vowel out of the alphapet \",pickvowel)"
      ],
      "metadata": {
        "id": "sByiuOXvrDbj"
      },
      "execution_count": null,
      "outputs": []
    },
    {
      "cell_type": "code",
      "source": [
        "#blocks in bag\n",
        "\n",
        "yellow=2\n",
        "green=3\n",
        "red=5\n",
        "\n",
        "total_outcome=yellow+green+red\n",
        "\n",
        "\n",
        "#pickblue\n",
        "pickgreen=green/total_outcome\n",
        "print(\"Probability of getting green:\",pickgreen)\n"
      ],
      "metadata": {
        "colab": {
          "base_uri": "https://localhost:8080/"
        },
        "id": "9vXQ9E1Wqc6q",
        "outputId": "9992e598-19c3-42e3-c3c0-0f1a6ae23a35"
      },
      "execution_count": 11,
      "outputs": [
        {
          "output_type": "stream",
          "name": "stdout",
          "text": [
            "Probability of getting green: 0.3\n"
          ]
        }
      ]
    },
    {
      "cell_type": "code",
      "source": [
        "#coin toss\n",
        "\n",
        "num_sides=2\n",
        "heads=1\n",
        "tails=1\n",
        "\n",
        "prob_heads=heads/num_sides\n",
        "print(\"Probability of heads:\",prob_heads)\n",
        "\n",
        "\n",
        "prob_tails=tails/num_sides\n",
        "print(\"Probability of heads:\",prob_tails)\n"
      ],
      "metadata": {
        "colab": {
          "base_uri": "https://localhost:8080/"
        },
        "id": "AfEtXLabp2sp",
        "outputId": "76a2f66c-404e-4356-e636-9a4121d8993d"
      },
      "execution_count": 10,
      "outputs": [
        {
          "output_type": "stream",
          "name": "stdout",
          "text": [
            "Probability of heads: 0.5\n",
            "Probability of heads: 0.5\n"
          ]
        }
      ]
    },
    {
      "cell_type": "code",
      "execution_count": 9,
      "metadata": {
        "colab": {
          "base_uri": "https://localhost:8080/"
        },
        "id": "L2Goun84iyWQ",
        "outputId": "081ffc53-13f1-4823-9010-8f1ada93d5bb"
      },
      "outputs": [
        {
          "output_type": "stream",
          "name": "stdout",
          "text": [
            "The Probability of rolling an even number or greater than 7 is: 65.6 %\n"
          ]
        }
      ],
      "source": [
        "import random\n",
        "import numpy as np\n",
        "\n",
        "def roll_the_dice(n_simulation=1000):\n",
        "  count=0\n",
        "\n",
        "\n",
        "  #each iteration of the for loop is trial\n",
        "\n",
        "  for i in range(n_simulation):\n",
        "\n",
        "    #roll each die\n",
        "\n",
        "    die1=random.randint(1,6)\n",
        "    die2=random.randint(1,6)\n",
        "\n",
        "    #sum the value to get the score\n",
        "    score =die1+die2\n",
        "\n",
        "\n",
        "    if score %2 == 0 or score >7:\n",
        "      count+=1\n",
        "  return count/n_simulation\n",
        "string ='The Probability of rolling an even number or greater than 7 is:'\n",
        "print(string,np.round(roll_the_dice()*100,2),'%')\n",
        "\n",
        "\n",
        "\n",
        "\n"
      ]
    }
  ]
}